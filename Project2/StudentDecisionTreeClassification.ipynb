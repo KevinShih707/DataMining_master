{
 "cells": [
  {
   "cell_type": "markdown",
   "metadata": {},
   "source": [
    "# Data Mining Project 2"
   ]
  },
  {
   "cell_type": "markdown",
   "metadata": {},
   "source": [
    "## Student Classification by DecisionTree"
   ]
  },
  {
   "cell_type": "code",
   "execution_count": 1,
   "metadata": {},
   "outputs": [
    {
     "name": "stdout",
     "output_type": "stream",
     "text": [
      "649\n",
      "  school sex  age address famsize Pstatus  Medu  Fedu     Mjob      Fjob  ...  \\\n",
      "0     GP   F   18       U     GT3       A     4     4  at_home   teacher  ...   \n",
      "1     GP   F   17       U     GT3       T     1     1  at_home     other  ...   \n",
      "2     GP   F   15       U     LE3       T     1     1  at_home     other  ...   \n",
      "3     GP   F   15       U     GT3       T     4     2   health  services  ...   \n",
      "4     GP   F   16       U     GT3       T     3     3    other     other  ...   \n",
      "\n",
      "  freetime goout  Dalc  Walc  health absences  G1  G2  G3      grade  \n",
      "0        3     4     1     1       3        4   0  11  11   7.333333  \n",
      "1        3     3     1     1       3        2   9  11  11  10.333333  \n",
      "2        3     2     2     3       3        6  12  13  12  12.333333  \n",
      "3        2     2     1     1       5        0  14  14  14  14.000000  \n",
      "4        3     2     1     2       5        0  11  13  13  12.333333  \n",
      "\n",
      "[5 rows x 34 columns]\n"
     ]
    }
   ],
   "source": [
    "import pandas as pd\n",
    "import numpy as np\n",
    "df = pd.read_csv('data/student-por.csv')\n",
    "print(len(df))\n",
    "print(df.head(5))"
   ]
  },
  {
   "cell_type": "code",
   "execution_count": 2,
   "metadata": {},
   "outputs": [
    {
     "name": "stdout",
     "output_type": "stream",
     "text": [
      "train test has 508 rows\n",
      "train test has 141 rows\n",
      "  school sex  age address famsize Pstatus  Medu  Fedu      Mjob     Fjob  ...  \\\n",
      "0     GP   F   18       U     GT3       A     4     4   at_home  teacher  ...   \n",
      "1     GP   F   17       U     GT3       T     1     1   at_home    other  ...   \n",
      "2     GP   F   15       U     LE3       T     1     1   at_home    other  ...   \n",
      "5     GP   M   16       U     LE3       T     4     3  services    other  ...   \n",
      "6     GP   M   16       U     LE3       T     2     2     other    other  ...   \n",
      "\n",
      "  freetime goout  Dalc  Walc  health absences  G1  G2  G3      grade  \n",
      "0        3     4     1     1       3        4   0  11  11   7.333333  \n",
      "1        3     3     1     1       3        2   9  11  11  10.333333  \n",
      "2        3     2     2     3       3        6  12  13  12  12.333333  \n",
      "5        4     2     1     2       5        6  12  12  13  12.333333  \n",
      "6        4     4     1     1       3        0  13  12  13  12.666667  \n",
      "\n",
      "[5 rows x 34 columns]\n",
      "    school sex  age address famsize Pstatus  Medu  Fedu     Mjob      Fjob  \\\n",
      "645     MS   F   18       U     LE3       T     3     1  teacher  services   \n",
      "\n",
      "     ... freetime goout  Dalc  Walc  health absences  G1  G2  G3      grade  \n",
      "645  ...        3     4     1     1       1        4  15  15  16  15.333333  \n",
      "\n",
      "[1 rows x 34 columns]\n"
     ]
    }
   ],
   "source": [
    "msk = np.random.rand(len(df)) < 0.8\n",
    "train = df[msk]\n",
    "test = df[~msk]\n",
    "print(\"train test has \"+str(len(train))+\" rows\")\n",
    "print(\"train test has \"+str(len(test))+\" rows\")\n",
    "print(train.head(5))\n",
    "print(test.tail(1))"
   ]
  },
  {
   "cell_type": "code",
   "execution_count": 3,
   "metadata": {},
   "outputs": [],
   "source": [
    "class CreateQuestion:    \n",
    "    def __init__(self, column, value):\n",
    "        self.column = column\n",
    "        self.value = value    \n",
    "    def check(self, data):\n",
    "        if(type(data)==type(int)):\n",
    "            val = data\n",
    "            return (val>=self.value).item()\n",
    "        else:\n",
    "            #val = data[self.column]\n",
    "            val = data.iloc[0,[self.column]]\n",
    "            return (val >= self.value).item()\n",
    "    def __repr__(self):\n",
    "      \n",
    "        return \"Is %s %s %s?\" % (self.column[-1], \">=\", str(self.value))"
   ]
  },
  {
   "cell_type": "code",
   "execution_count": 4,
   "metadata": {},
   "outputs": [
    {
     "name": "stdout",
     "output_type": "stream",
     "text": [
      "False\n",
      "18\n"
     ]
    }
   ],
   "source": [
    "q = CreateQuestion(2, 19)\n",
    "data = train.iloc[[1]]\n",
    "print(q.check(data))\n",
    "print(train.iloc[0][2])"
   ]
  },
  {
   "cell_type": "code",
   "execution_count": 5,
   "metadata": {},
   "outputs": [],
   "source": [
    "def partition(rows, qsn):\n",
    "  \n",
    "    true_rows, false_rows = [], []\n",
    "    for i in range(0,len(rows)):\n",
    "        if qsn.check(train.iloc[i:i+1]):\n",
    "            true_rows.append(train.iloc[i:i+1])\n",
    "        else:\n",
    "            false_rows.append(train.iloc[i:i+1])\n",
    "    return true_rows, false_rows"
   ]
  },
  {
   "cell_type": "code",
   "execution_count": 6,
   "metadata": {},
   "outputs": [],
   "source": [
    "true_rows, false_rows = partition(train, CreateQuestion(2, 18))"
   ]
  },
  {
   "cell_type": "code",
   "execution_count": 7,
   "metadata": {},
   "outputs": [
    {
     "name": "stdout",
     "output_type": "stream",
     "text": [
      "141\n",
      "367\n",
      "[  school sex  age address famsize Pstatus  Medu  Fedu     Mjob     Fjob  ...  \\\n",
      "0     GP   F   18       U     GT3       A     4     4  at_home  teacher  ...   \n",
      "\n",
      "  freetime goout  Dalc  Walc  health absences G1  G2  G3     grade  \n",
      "0        3     4     1     1       3        4  0  11  11  7.333333  \n",
      "\n",
      "[1 rows x 34 columns],     school sex  age address famsize Pstatus  Medu  Fedu     Mjob   Fjob  ...  \\\n",
      "127     GP   F   19       U     GT3       T     0     1  at_home  other  ...   \n",
      "\n",
      "    freetime goout  Dalc  Walc  health absences G1  G2  G3 grade  \n",
      "127        4     2     1     1       5        0  9  10  11  10.0  \n",
      "\n",
      "[1 rows x 34 columns],     school sex  age address famsize Pstatus  Medu  Fedu      Mjob   Fjob  ...  \\\n",
      "131     GP   F   18       U     GT3       T     2     1  services  other  ...   \n",
      "\n",
      "    freetime goout  Dalc  Walc  health absences  G1 G2 G3 grade  \n",
      "131        4     5     1     3       5       10  10  9  8   9.0  \n",
      "\n",
      "[1 rows x 34 columns]]\n"
     ]
    }
   ],
   "source": [
    "true = true_rows[:3]\n",
    "print(len(true_rows))\n",
    "print(len(false_rows))\n",
    "print(true)"
   ]
  },
  {
   "cell_type": "code",
   "execution_count": 8,
   "metadata": {},
   "outputs": [
    {
     "data": {
      "text/html": [
       "<div>\n",
       "<style scoped>\n",
       "    .dataframe tbody tr th:only-of-type {\n",
       "        vertical-align: middle;\n",
       "    }\n",
       "\n",
       "    .dataframe tbody tr th {\n",
       "        vertical-align: top;\n",
       "    }\n",
       "\n",
       "    .dataframe thead th {\n",
       "        text-align: right;\n",
       "    }\n",
       "</style>\n",
       "<table border=\"1\" class=\"dataframe\">\n",
       "  <thead>\n",
       "    <tr style=\"text-align: right;\">\n",
       "      <th></th>\n",
       "      <th>school</th>\n",
       "      <th>sex</th>\n",
       "      <th>age</th>\n",
       "      <th>address</th>\n",
       "      <th>famsize</th>\n",
       "      <th>Pstatus</th>\n",
       "      <th>Medu</th>\n",
       "      <th>Fedu</th>\n",
       "      <th>Mjob</th>\n",
       "      <th>Fjob</th>\n",
       "      <th>...</th>\n",
       "      <th>freetime</th>\n",
       "      <th>goout</th>\n",
       "      <th>Dalc</th>\n",
       "      <th>Walc</th>\n",
       "      <th>health</th>\n",
       "      <th>absences</th>\n",
       "      <th>G1</th>\n",
       "      <th>G2</th>\n",
       "      <th>G3</th>\n",
       "      <th>grade</th>\n",
       "    </tr>\n",
       "  </thead>\n",
       "  <tbody>\n",
       "    <tr>\n",
       "      <th>2</th>\n",
       "      <td>GP</td>\n",
       "      <td>F</td>\n",
       "      <td>15</td>\n",
       "      <td>U</td>\n",
       "      <td>LE3</td>\n",
       "      <td>T</td>\n",
       "      <td>1</td>\n",
       "      <td>1</td>\n",
       "      <td>at_home</td>\n",
       "      <td>other</td>\n",
       "      <td>...</td>\n",
       "      <td>3</td>\n",
       "      <td>2</td>\n",
       "      <td>2</td>\n",
       "      <td>3</td>\n",
       "      <td>3</td>\n",
       "      <td>6</td>\n",
       "      <td>12</td>\n",
       "      <td>13</td>\n",
       "      <td>12</td>\n",
       "      <td>12.333333</td>\n",
       "    </tr>\n",
       "  </tbody>\n",
       "</table>\n",
       "<p>1 rows × 34 columns</p>\n",
       "</div>"
      ],
      "text/plain": [
       "  school sex  age address famsize Pstatus  Medu  Fedu     Mjob   Fjob  ...  \\\n",
       "2     GP   F   15       U     LE3       T     1     1  at_home  other  ...   \n",
       "\n",
       "  freetime goout  Dalc  Walc  health absences  G1  G2  G3      grade  \n",
       "2        3     2     2     3       3        6  12  13  12  12.333333  \n",
       "\n",
       "[1 rows x 34 columns]"
      ]
     },
     "execution_count": 8,
     "metadata": {},
     "output_type": "execute_result"
    }
   ],
   "source": [
    "# dd = train.iloc[:,2]\n",
    "# print(dd)\n",
    "# for item in train:\n",
    "#     print(item)\n",
    "train.iloc[2:3]"
   ]
  },
  {
   "cell_type": "code",
   "execution_count": null,
   "metadata": {},
   "outputs": [],
   "source": []
  }
 ],
 "metadata": {
  "kernelspec": {
   "display_name": "Python 3",
   "language": "python",
   "name": "python3"
  },
  "language_info": {
   "codemirror_mode": {
    "name": "ipython",
    "version": 3
   },
   "file_extension": ".py",
   "mimetype": "text/x-python",
   "name": "python",
   "nbconvert_exporter": "python",
   "pygments_lexer": "ipython3",
   "version": "3.7.3"
  }
 },
 "nbformat": 4,
 "nbformat_minor": 2
}
