{
 "cells": [
  {
   "cell_type": "code",
   "execution_count": 1,
   "metadata": {},
   "outputs": [
    {
     "name": "stdout",
     "output_type": "stream",
     "text": [
      "649\n",
      "  school sex  age address famsize Pstatus  Medu  Fedu     Mjob      Fjob  ...  \\\n",
      "0     GP   F   18       U     GT3       A     4     4  at_home   teacher  ...   \n",
      "1     GP   F   17       U     GT3       T     1     1  at_home     other  ...   \n",
      "2     GP   F   15       U     LE3       T     1     1  at_home     other  ...   \n",
      "3     GP   F   15       U     GT3       T     4     2   health  services  ...   \n",
      "4     GP   F   16       U     GT3       T     3     3    other     other  ...   \n",
      "\n",
      "  freetime goout  Dalc  Walc  health absences  G1  G2  G3      grade  \n",
      "0        3     4     1     1       3        4   0  11  11   7.333333  \n",
      "1        3     3     1     1       3        2   9  11  11  10.333333  \n",
      "2        3     2     2     3       3        6  12  13  12  12.333333  \n",
      "3        2     2     1     1       5        0  14  14  14  14.000000  \n",
      "4        3     2     1     2       5        0  11  13  13  12.333333  \n",
      "\n",
      "[5 rows x 34 columns]\n"
     ]
    }
   ],
   "source": [
    "import pandas as pd\n",
    "import numpy as np\n",
    "df = pd.read_csv('data/student-por.csv')\n",
    "print(len(df))\n",
    "print(df.head(5))"
   ]
  },
  {
   "cell_type": "code",
   "execution_count": 3,
   "metadata": {},
   "outputs": [
    {
     "name": "stdout",
     "output_type": "stream",
     "text": [
      "     studytime  failures      grade\n",
      "0            2         0   7.333333\n",
      "1            2         0  10.333333\n",
      "2            2         0  12.333333\n",
      "3            3         0  14.000000\n",
      "4            2         0  12.333333\n",
      "5            2         0  12.333333\n",
      "6            2         0  12.666667\n",
      "7            2         0  12.000000\n",
      "8            2         0  16.000000\n",
      "9            2         0  12.333333\n",
      "10           2         0  14.000000\n",
      "11           3         0  11.666667\n",
      "12           1         0  12.333333\n",
      "13           2         0  12.333333\n",
      "14           3         0  14.333333\n",
      "15           1         0  17.000000\n",
      "16           3         0  13.333333\n",
      "17           2         0  13.666667\n",
      "18           1         3   7.666667\n",
      "19           1         0  12.000000\n",
      "20           2         0  13.000000\n",
      "21           1         0  11.666667\n",
      "22           2         0  13.000000\n",
      "23           2         0  10.000000\n",
      "24           3         0  10.333333\n",
      "25           1         0  11.000000\n",
      "26           1         0  11.666667\n",
      "27           1         0  11.000000\n",
      "28           2         0  12.333333\n",
      "29           2         0  11.666667\n",
      "..         ...       ...        ...\n",
      "619          2         0  12.666667\n",
      "620          2         0  14.666667\n",
      "621          2         0  13.000000\n",
      "622          2         0   9.000000\n",
      "623          3         0  15.666667\n",
      "624          1         1   8.333333\n",
      "625          1         0  10.000000\n",
      "626          2         0   4.000000\n",
      "627          1         0   9.666667\n",
      "628          3         0  11.000000\n",
      "629          1         0   8.000000\n",
      "630          3         0  16.333333\n",
      "631          3         0  11.000000\n",
      "632          2         1   8.000000\n",
      "633          2         0  13.666667\n",
      "634          2         0  16.000000\n",
      "635          2         0   8.666667\n",
      "636          2         0  18.000000\n",
      "637          1         0   4.666667\n",
      "638          2         0  15.000000\n",
      "639          1         1   4.333333\n",
      "640          1         1   4.666667\n",
      "641          3         0  15.333333\n",
      "642          2         0   8.666667\n",
      "643          1         0   8.666667\n",
      "644          3         1  10.333333\n",
      "645          2         0  15.333333\n",
      "646          2         0  10.666667\n",
      "647          1         0  10.000000\n",
      "648          1         0  10.666667\n",
      "\n",
      "[649 rows x 3 columns]\n"
     ]
    }
   ],
   "source": [
    "three = pd.DataFrame(df, columns = ['studytime' , 'failures', 'grade'])\n",
    "print(three)"
   ]
  },
  {
   "cell_type": "code",
   "execution_count": null,
   "metadata": {},
   "outputs": [],
   "source": []
  }
 ],
 "metadata": {
  "kernelspec": {
   "display_name": "Python 3",
   "language": "python",
   "name": "python3"
  },
  "language_info": {
   "codemirror_mode": {
    "name": "ipython",
    "version": 3
   },
   "file_extension": ".py",
   "mimetype": "text/x-python",
   "name": "python",
   "nbconvert_exporter": "python",
   "pygments_lexer": "ipython3",
   "version": "3.7.3"
  }
 },
 "nbformat": 4,
 "nbformat_minor": 2
}
